{
  "nbformat": 4,
  "nbformat_minor": 0,
  "metadata": {
    "colab": {
      "provenance": []
    },
    "kernelspec": {
      "name": "python3",
      "display_name": "Python 3"
    },
    "language_info": {
      "name": "python"
    }
  },
  "cells": [
    {
      "cell_type": "code",
      "execution_count": 6,
      "metadata": {
        "colab": {
          "base_uri": "https://localhost:8080/"
        },
        "id": "vtF8K0ROV9Qq",
        "outputId": "4266d44d-1950-4afb-c582-6569badd8d4d"
      },
      "outputs": [
        {
          "output_type": "stream",
          "name": "stdout",
          "text": [
            "            name age\n",
            "True    Smaridha  28\n",
            "True       bajaj  39\n",
            "False  Priyanshi  34\n",
            "True   Prajapati  36\n"
          ]
        }
      ],
      "source": [
        "# importing pandas as pd\n",
        "import pandas as pd\n",
        "#dictionary of lists\n",
        "dict={'name':[\"Smaridha\",\"bajaj\",\"Priyanshi\",\"Prajapati\"],\n",
        "'age' : [\"28\",\"39\",\"34\",\"36\"]}\n",
        "info=pd.DataFrame (dict,index  =[True,True,False,True])\n",
        "print(info)\n"
      ]
    }
  ]
}